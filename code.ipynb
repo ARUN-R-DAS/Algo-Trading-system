{
 "cells": [
  {
   "cell_type": "code",
   "execution_count": 7,
   "id": "037640e7",
   "metadata": {},
   "outputs": [],
   "source": [
    "class MyTradingStrategy:\n",
    "    def __init__(self,name):\n",
    "        self.__name = name\n",
    "    \n",
    "    def generate_signal(self,price_data):\n",
    "        print(\"This method is intended to be over-ridden\")\n",
    "        return \"Hold\"\n",
    "    \n",
    "    @property\n",
    "    def name(self):\n",
    "        return self.__name"
   ]
  },
  {
   "cell_type": "code",
   "execution_count": null,
   "id": "4ef3bca6",
   "metadata": {},
   "outputs": [],
   "source": [
    "class MySmaTradingStrategy(MyTradingStrategy):\n",
    "    def __init__(self,swindow,lwindow):\n",
    "        self.__swindow = swindow\n",
    "        self.__lwindow = lwindow\n",
    "        super.__init__(\"My SMA Trading Strategy\")\n",
    "\n",
    "def generate_signal(self,prince_data):\n",
    "    if len(prince_data[-self.__lwindow:]) < self.__lwindow:\n",
    "        return self\n",
    "    short_avg = sum(prince_data[-self.swindow:])/self.__swindow\n",
    "\n",
    "@property\n",
    "def swindow(self):\n",
    "    return self.__swindow\n",
    "\n",
    "@property\n",
    "def lwindow(self):\n",
    "    return self.__lwindow"
   ]
  },
  {
   "cell_type": "code",
   "execution_count": 9,
   "id": "f8d08382",
   "metadata": {},
   "outputs": [
    {
     "name": "stdout",
     "output_type": "stream",
     "text": [
      "This method is intended to be over-ridden\n"
     ]
    },
    {
     "data": {
      "text/plain": [
       "'Strategy 1'"
      ]
     },
     "execution_count": 9,
     "metadata": {},
     "output_type": "execute_result"
    }
   ],
   "source": [
    "MyBaseObj = MyTradingStrategy(\"Strategy 1\")\n",
    "MyBaseObj.generate_signal(12)\n",
    "\n",
    "MyBaseObj.name"
   ]
  },
  {
   "cell_type": "code",
   "execution_count": null,
   "id": "33fbe599",
   "metadata": {},
   "outputs": [],
   "source": []
  }
 ],
 "metadata": {
  "kernelspec": {
   "display_name": "Python 3",
   "language": "python",
   "name": "python3"
  },
  "language_info": {
   "codemirror_mode": {
    "name": "ipython",
    "version": 3
   },
   "file_extension": ".py",
   "mimetype": "text/x-python",
   "name": "python",
   "nbconvert_exporter": "python",
   "pygments_lexer": "ipython3",
   "version": "3.10.11"
  }
 },
 "nbformat": 4,
 "nbformat_minor": 5
}
